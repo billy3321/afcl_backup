{
 "cells": [
  {
   "cell_type": "code",
   "execution_count": 239,
   "id": "2580a5bf-fd57-476c-9cf4-c5aa90285d04",
   "metadata": {},
   "outputs": [],
   "source": [
    "import os\n",
    "import requests\n",
    "import pandas as pd\n",
    "from bs4 import BeautifulSoup\n",
    "from urllib.parse import urljoin, urlparse\n",
    "import markdownify\n",
    "from tqdm import tqdm\n",
    "from opencc import OpenCC\n",
    "import re\n",
    "from random import randint\n",
    "from time import sleep\n",
    "\n",
    "# 初始化 OpenCC 簡體轉繁體實例\n",
    "cc = OpenCC('s2t')  # s2t: Simplified Chinese to Traditional Chinese conversion"
   ]
  },
  {
   "cell_type": "code",
   "execution_count": 240,
   "id": "af52ac7a-b1c9-47e2-9682-089056b24b03",
   "metadata": {},
   "outputs": [],
   "source": [
    "# 預設輸出資料夾\n",
    "DIST_DIR = 'dist'\n",
    "LANG = 'zh'\n",
    "IMAGES_DIR = os.path.join(DIST_DIR, LANG, 'images')"
   ]
  },
  {
   "cell_type": "code",
   "execution_count": 241,
   "id": "ca689141-82a4-4e7a-8554-80d6c5d6a146",
   "metadata": {},
   "outputs": [],
   "source": [
    "os.makedirs(DIST_DIR, exist_ok=True)\n",
    "os.makedirs(IMAGES_DIR, exist_ok=True)"
   ]
  },
  {
   "cell_type": "code",
   "execution_count": 242,
   "id": "c96080b1-794a-4615-9d8e-e7691ee02f80",
   "metadata": {},
   "outputs": [],
   "source": [
    "csv_path = f'rfa_shishi_data_{LANG}.csv'"
   ]
  },
  {
   "cell_type": "code",
   "execution_count": 243,
   "id": "6285acb6-ad0c-4a86-981e-6e70417f7457",
   "metadata": {},
   "outputs": [],
   "source": [
    "# 全局URL到檔名映射字典\n",
    "url_to_md = {}"
   ]
  },
  {
   "cell_type": "code",
   "execution_count": null,
   "id": "047de9d2-e99d-41dd-9041-b86bafbd51f5",
   "metadata": {},
   "outputs": [],
   "source": []
  },
  {
   "cell_type": "code",
   "execution_count": 244,
   "id": "388bfe82-02ff-4f7e-ad17-b1a73adcf63a",
   "metadata": {},
   "outputs": [],
   "source": [
    "def download_and_convert(url: str, replace=False):\n",
    "    # 1. 取得對應 Markdown 檔名\n",
    "    if url not in url_to_md:\n",
    "        print(f\"URL 未定義檔名對應：{url}\")\n",
    "        return None\n",
    "    md_filename = url_to_md[url]\n",
    "    output_md = os.path.join(DIST_DIR, LANG, md_filename)\n",
    "    if not replace:\n",
    "        if os.path.exists(output_md):\n",
    "            return md_filename\n",
    "\n",
    "    # 2. 建立 images 資料夾\n",
    "    os.makedirs(IMAGES_DIR, exist_ok=True)\n",
    "\n",
    "    # 3. 下載並解析網頁\n",
    "    resp = requests.get(url)\n",
    "    resp.encoding = resp.apparent_encoding\n",
    "    soup = BeautifulSoup(resp.text, 'html.parser')\n",
    "\n",
    "    # 4. 移除 header 與 nav\n",
    "    if soup.header:\n",
    "        soup.header.decompose()\n",
    "    for nav in soup.find_all('nav'):\n",
    "        nav.decompose()\n",
    "\n",
    "    # 5. 處理 <img> 標籤並下載圖片（若不存在）\n",
    "    for img in soup.find_all('img'):\n",
    "        src = img.get('src') or ''\n",
    "        img_url_full = urljoin(url, src)\n",
    "        filename = os.path.basename(urlparse(img_url_full).path)\n",
    "        if not filename:\n",
    "            continue\n",
    "        local_path = os.path.join(IMAGES_DIR, filename)\n",
    "        if not os.path.exists(local_path):\n",
    "            try:\n",
    "                r = requests.get(img_url_full, stream=True)\n",
    "                r.raise_for_status()\n",
    "                with open(local_path, 'wb') as f:\n",
    "                    for chunk in r.iter_content(8192):\n",
    "                        f.write(chunk)\n",
    "            except Exception as e:\n",
    "                print(f\"下載失敗：{img_url_full} → {e}\")\n",
    "        img['src'] = os.path.join('images', filename)\n",
    "\n",
    "    # 6. HTML → Markdown\n",
    "    md = markdownify.markdownify(str(soup), heading_style='ATX')\n",
    "\n",
    "    # 7. 簡體轉繁體\n",
    "    md = cc.convert(md)\n",
    "\n",
    "    # 8. 刪除第一個標題前內容\n",
    "    lines = md.splitlines()\n",
    "    start_idx = next((i for i,l in enumerate(lines) if l.startswith('# ')), 0)\n",
    "    lines = lines[start_idx:]\n",
    "\n",
    "    # 9. 刪除「## 更多」及後續內容\n",
    "    cleaned = []\n",
    "    for l in lines:\n",
    "        if re.match(r'^##\\s*更多', l) or re.match(r'^##\\s*MORE\\s+Asia\\sFact\\sCheck\\sLab', l):\n",
    "            break\n",
    "        cleaned.append(l)\n",
    "\n",
    "\n",
    "    # 10. 替換相對/絕對內部連結\n",
    "    def link_repl(m):\n",
    "        text, link = m.group(1), m.group(2)\n",
    "        if link.startswith('/'):\n",
    "            full = 'https://www.rfa.org' + link\n",
    "        else:\n",
    "            full = link\n",
    "        if full in url_to_md:\n",
    "            return f\"[{text}]({url_to_md[full]})\"\n",
    "        return m.group(0)\n",
    "\n",
    "    processed = []\n",
    "    counter = 1\n",
    "    for raw in cleaned:\n",
    "        line = raw.strip()\n",
    "        # 處理 #### 標題 (含或不含粗體)\n",
    "        m_h = re.match(r'^####?\\s*(?:\\*\\*)?(.+?)(?:\\*\\*)?\\s*$', line)\n",
    "        if m_h:\n",
    "            title_text = m_h.group(1).strip()\n",
    "            processed.append(f\"## {title_text}\")\n",
    "            continue\n",
    "        # 處理編號清單轉標題\n",
    "        m_num = re.match(r'^\\d+\\.\\s*\\*\\*(.+?)\\*\\*$', line)\n",
    "        if m_num:\n",
    "            text = m_num.group(1).strip()\n",
    "            processed.append(f\"## {counter}. {text}\")\n",
    "            counter += 1\n",
    "            continue\n",
    "        # 處理整行連結替換\n",
    "        line = re.sub(r'\\[([^\\]]+)\\]\\(((?:https?://www\\.rfa\\.org)?/[^\\)]+|https?://www\\.rfa\\.org[^\\)]+)\\)', link_repl, line)\n",
    "        # 處理整行純 Bold 作為次標題\n",
    "        if line.startswith('**') and line.endswith('**'):\n",
    "            inner = re.sub(r'\\*\\*', '', line).strip()\n",
    "            inner = inner.replace(':', '：')\n",
    "            inner = inner.strip()\n",
    "            processed.append(f\"## {inner}\")\n",
    "            continue\n",
    "        if line.startswith('#'):\n",
    "            line = line.replace('*', '')\n",
    "        processed.append(line)\n",
    "\n",
    "    # 11. 每行 strip 並重組\n",
    "    final_lines = [l.strip() for l in processed]\n",
    "    final_lines.append(\"\")\n",
    "    final_lines.append(f\"[Original Source]({url})\")\n",
    "    final_md = '\\n'.join(final_lines)\n",
    "\n",
    "    # 12. 寫檔\n",
    "    with open(output_md, 'w', encoding='utf-8') as f:\n",
    "        f.write(final_md)\n",
    "    return md_filename"
   ]
  },
  {
   "cell_type": "code",
   "execution_count": 245,
   "id": "6de50759-8cf8-4833-88f9-375cc56bddd7",
   "metadata": {},
   "outputs": [],
   "source": [
    "df = pd.read_csv(csv_path)"
   ]
  },
  {
   "cell_type": "code",
   "execution_count": 246,
   "id": "2fd0854d-8cb8-4091-9c5a-5529424fb06f",
   "metadata": {},
   "outputs": [],
   "source": [
    "required = {'url', 'date', 'title'}\n",
    "if not required.issubset(df.columns):\n",
    "    raise ValueError(\"CSV 必須包含 `url`, `date`, `title` 欄位，可選 `image_url`\")"
   ]
  },
  {
   "cell_type": "code",
   "execution_count": 247,
   "id": "47dff5e1-7266-4814-acfb-1129d226489e",
   "metadata": {},
   "outputs": [],
   "source": [
    "# 1. 建立映射\n",
    "for _, row in df.iterrows():\n",
    "    url = row['url']\n",
    "    date = row['date']\n",
    "    title_tw = cc.convert(row['title'])\n",
    "    safe_title = title_tw.replace('/', '_').replace(':', '：').replace('|', '｜')\n",
    "    md_fn = f\"{date}_{safe_title}.md\"\n",
    "    url_to_md[url] = md_fn"
   ]
  },
  {
   "cell_type": "code",
   "execution_count": 248,
   "id": "cb483056-969d-4334-bae6-b81ec1d41e73",
   "metadata": {},
   "outputs": [
    {
     "name": "stderr",
     "output_type": "stream",
     "text": [
      "備份進度:  30%|███████████████▏                                  | 167/551 [18:35<37:45,  5.90s/it]"
     ]
    },
    {
     "name": "stdout",
     "output_type": "stream",
     "text": [
      "下載失敗：https://manstaging.rfaweb.org/mandarin/shishi-hecha/hc-african-nations-lift-china-to-united-nations-fact-check-09202024135757.html/88682.png/@@images/image/social_media → 503 Server Error: Service Unavailable for url: https://manstaging.rfaweb.org/mandarin/shishi-hecha/hc-african-nations-lift-china-to-united-nations-fact-check-09202024135757.html/88682.png/@@images/image/social_media\n",
      "下載失敗：https://manstaging.rfaweb.org/mandarin/shishi-hecha/hc-african-nations-lift-china-to-united-nations-fact-check-09202024135757.html/88683.png/@@images/image/social_media → 503 Server Error: Service Unavailable for url: https://manstaging.rfaweb.org/mandarin/shishi-hecha/hc-african-nations-lift-china-to-united-nations-fact-check-09202024135757.html/88683.png/@@images/image/social_media\n",
      "下載失敗：https://manstaging.rfaweb.org/mandarin/shishi-hecha/hc-african-nations-lift-china-to-united-nations-fact-check-09202024135757.html/88684.png/@@images/image/social_media → 503 Server Error: Service Unavailable for url: https://manstaging.rfaweb.org/mandarin/shishi-hecha/hc-african-nations-lift-china-to-united-nations-fact-check-09202024135757.html/88684.png/@@images/image/social_media\n"
     ]
    },
    {
     "name": "stderr",
     "output_type": "stream",
     "text": [
      "備份進度:  30%|███████████████▏                                  | 168/551 [18:45<46:04,  7.22s/it]"
     ]
    },
    {
     "name": "stdout",
     "output_type": "stream",
     "text": [
      "下載失敗：https://manstaging.rfaweb.org/mandarin/shishi-hecha/hc-african-nations-lift-china-to-united-nations-fact-check-09202024135757.html/88685.png/@@images/image/social_media → 503 Server Error: Service Unavailable for url: https://manstaging.rfaweb.org/mandarin/shishi-hecha/hc-african-nations-lift-china-to-united-nations-fact-check-09202024135757.html/88685.png/@@images/image/social_media\n"
     ]
    },
    {
     "name": "stderr",
     "output_type": "stream",
     "text": [
      "備份進度:  58%|█████████████████████████████▏                    | 321/551 [35:48<30:26,  7.94s/it]"
     ]
    },
    {
     "name": "stdout",
     "output_type": "stream",
     "text": [
      "下載失敗：https://manstaging.rfaweb.org/mandarin/shishi-hecha/hc-02232024183403.html/2.png/@@images/image/social_media → 503 Server Error: Service Unavailable for url: https://manstaging.rfaweb.org/mandarin/shishi-hecha/hc-02232024183403.html/2.png/@@images/image/social_media\n"
     ]
    },
    {
     "name": "stderr",
     "output_type": "stream",
     "text": [
      "備份進度:  64%|███████████████████████████████▉                  | 352/551 [39:10<25:32,  7.70s/it]"
     ]
    },
    {
     "name": "stdout",
     "output_type": "stream",
     "text": [
      "[錯誤] https://www.rfa.org/mandarin/shishi-hecha/hc-12302023085958.html → ('Connection broken: IncompleteRead(0 bytes read, 139 more expected)', IncompleteRead(0 bytes read, 139 more expected))\n"
     ]
    },
    {
     "name": "stderr",
     "output_type": "stream",
     "text": [
      "備份進度:  76%|██████████████████████████████████████            | 420/551 [46:56<15:04,  6.91s/it]"
     ]
    },
    {
     "name": "stdout",
     "output_type": "stream",
     "text": [
      "下載失敗：https://manstaging.rfaweb.org/mandarin/shishi-hecha/hc-09042023093849.html/65e5672c999676f854036d779bae6025900191ab-524d653f52d95b98559d6838865574066c346b7b4ea1-3.png/@@images/image/social_media → 503 Server Error: Service Unavailable for url: https://manstaging.rfaweb.org/mandarin/shishi-hecha/hc-09042023093849.html/65e5672c999676f854036d779bae6025900191ab-524d653f52d95b98559d6838865574066c346b7b4ea1-3.png/@@images/image/social_media\n"
     ]
    },
    {
     "name": "stderr",
     "output_type": "stream",
     "text": [
      "備份進度:  93%|██████████████████████████████████████████████▎   | 511/551 [57:38<04:51,  7.30s/it]"
     ]
    },
    {
     "name": "stdout",
     "output_type": "stream",
     "text": [
      "下載失敗：https://manstaging.rfaweb.org/mandarin/shishi-hecha/hc-03212023110025.html/622a5716-2023-03-21-14-25-12.png/@@images/image/social_media → 503 Server Error: Service Unavailable for url: https://manstaging.rfaweb.org/mandarin/shishi-hecha/hc-03212023110025.html/622a5716-2023-03-21-14-25-12.png/@@images/image/social_media\n"
     ]
    },
    {
     "name": "stderr",
     "output_type": "stream",
     "text": [
      "備份進度: 100%|████████████████████████████████████████████████| 551/551 [1:02:17<00:00,  6.78s/it]"
     ]
    },
    {
     "name": "stdout",
     "output_type": "stream",
     "text": [
      "下載失敗：https://manstaging.rfaweb.org/mandarin/shishi-hecha/hc-11152022161312.html/1min-7c21.jpg/@@images/image/social_media → 503 Server Error: Service Unavailable for url: https://manstaging.rfaweb.org/mandarin/shishi-hecha/hc-11152022161312.html/1min-7c21.jpg/@@images/image/social_media\n"
     ]
    },
    {
     "name": "stderr",
     "output_type": "stream",
     "text": [
      "\n"
     ]
    }
   ],
   "source": [
    "entries = []\n",
    "# 2. 處理每筆 URL\n",
    "for _, row in tqdm(df.iterrows(), total=len(df), desc='備份進度'):\n",
    "    try:\n",
    "        md_file = download_and_convert(row['url'], replace=True)\n",
    "        if md_file:\n",
    "            entries.append({'date': row['date'], 'title': cc.convert(row['title']), 'md_file': md_file})\n",
    "    except Exception as e:\n",
    "        print(f\"[錯誤] {row['url']} → {e}\")"
   ]
  },
  {
   "cell_type": "code",
   "execution_count": 271,
   "id": "84ce1bb6-bf91-4ada-88fd-b26bbfa841ef",
   "metadata": {},
   "outputs": [
    {
     "name": "stdout",
     "output_type": "stream",
     "text": [
      "https://www.rfa.org/mandarin/shishi-hecha/hc-11152022161312.html\n",
      "下載失敗：https://manstaging.rfaweb.org/mandarin/shishi-hecha/hc-11152022161312.html/1min-7c21.jpg/@@images/image/social_media → 503 Server Error: Service Unavailable for url: https://manstaging.rfaweb.org/mandarin/shishi-hecha/hc-11152022161312.html/1min-7c21.jpg/@@images/image/social_media\n"
     ]
    },
    {
     "data": {
      "text/plain": [
       "'2022-11-15_事實查覈  ｜ 北約捐給烏克蘭帶病毒血液？烏衛生部駁斥微博大V謠言.md'"
      ]
     },
     "execution_count": 271,
     "metadata": {},
     "output_type": "execute_result"
    }
   ],
   "source": [
    "num = 550\n",
    "print(df.loc[num]['url'])\n",
    "download_and_convert(df.loc[num]['url'], replace=True)"
   ]
  },
  {
   "cell_type": "code",
   "execution_count": 250,
   "id": "4d7947bf-82b0-4622-bb10-95a566ff74ee",
   "metadata": {},
   "outputs": [
    {
     "name": "stdout",
     "output_type": "stream",
     "text": [
      "已生成 dist/zh/content.md\n"
     ]
    }
   ],
   "source": [
    "# 3. 生成 content.md\n",
    "content_path = os.path.join(DIST_DIR, LANG, 'content.md')\n",
    "with open(content_path, 'w', encoding='utf-8') as f:\n",
    "    for e in entries:\n",
    "        disp = f\"{e['date']}_{e['title'].replace(':', '：').replace('|', '｜')}\"\n",
    "        f.write(f\"* [{disp}](<{e['md_file']}>)\\n\")\n",
    "print(f\"已生成 {content_path}\")"
   ]
  },
  {
   "cell_type": "code",
   "execution_count": null,
   "id": "e7561e9d-b77d-4f87-83fd-6b8fc8b0257f",
   "metadata": {},
   "outputs": [],
   "source": []
  },
  {
   "cell_type": "code",
   "execution_count": 251,
   "id": "0ae52f0e-4fc1-4e4a-9435-b59d8713aa0b",
   "metadata": {},
   "outputs": [
    {
     "data": {
      "text/html": [
       "<div>\n",
       "<style scoped>\n",
       "    .dataframe tbody tr th:only-of-type {\n",
       "        vertical-align: middle;\n",
       "    }\n",
       "\n",
       "    .dataframe tbody tr th {\n",
       "        vertical-align: top;\n",
       "    }\n",
       "\n",
       "    .dataframe thead th {\n",
       "        text-align: right;\n",
       "    }\n",
       "</style>\n",
       "<table border=\"1\" class=\"dataframe\">\n",
       "  <thead>\n",
       "    <tr style=\"text-align: right;\">\n",
       "      <th></th>\n",
       "      <th>date</th>\n",
       "      <th>category</th>\n",
       "      <th>title</th>\n",
       "      <th>author</th>\n",
       "      <th>description</th>\n",
       "      <th>url</th>\n",
       "      <th>image_url</th>\n",
       "    </tr>\n",
       "  </thead>\n",
       "  <tbody>\n",
       "    <tr>\n",
       "      <th>0</th>\n",
       "      <td>2025-05-08</td>\n",
       "      <td>事实查核</td>\n",
       "      <td>《中共外宣在台湾》报告全文电子档发布</td>\n",
       "      <td>亚洲事实查核实验室</td>\n",
       "      <td>AFCL将《中共外宣在台湾》十一篇报道重新编辑成电子书版本，全文共九章，读者可以自由下载。</td>\n",
       "      <td>https://www.rfa.org/mandarin/shishi-hecha/2025...</td>\n",
       "      <td>https://cloudfront-us-east-1.images.arcpublish...</td>\n",
       "    </tr>\n",
       "    <tr>\n",
       "      <th>1</th>\n",
       "      <td>2025-05-05</td>\n",
       "      <td>事实查核</td>\n",
       "      <td>事实查核｜网传视频是以色列大火画面？</td>\n",
       "      <td>庄敬</td>\n",
       "      <td>近日在X平台上，有「蓝勾」认证帐号发布一段山林、街区燃烧的短视频，宣称是「熊熊大火席卷以色列...</td>\n",
       "      <td>https://www.rfa.org/mandarin/shishi-hecha/2025...</td>\n",
       "      <td>https://cloudfront-us-east-1.images.arcpublish...</td>\n",
       "    </tr>\n",
       "    <tr>\n",
       "      <th>2</th>\n",
       "      <td>2025-05-02</td>\n",
       "      <td>事实查核</td>\n",
       "      <td>事实查核｜照片显示，胡塞武装又击落一架美军MQ9无人机？</td>\n",
       "      <td>董喆</td>\n",
       "      <td>近期，X平台与中国论坛上广传一张照片，称是胡塞武装又击落一架美军MQ-9无人机，但这是201...</td>\n",
       "      <td>https://www.rfa.org/mandarin/shishi-hecha/2025...</td>\n",
       "      <td>https://cloudfront-us-east-1.images.arcpublish...</td>\n",
       "    </tr>\n",
       "    <tr>\n",
       "      <th>3</th>\n",
       "      <td>2025-05-01</td>\n",
       "      <td>事实查核</td>\n",
       "      <td>事实查核｜网传视频显示，白宫墙上挂着「2028竞选红帽」销售图？</td>\n",
       "      <td>庄敬</td>\n",
       "      <td>微博、X等平台上流传一则短视频：美国总统特朗普记者展示白宫墙上挂着的「2028竞选红帽」销售...</td>\n",
       "      <td>https://www.rfa.org/mandarin/shishi-hecha/2025...</td>\n",
       "      <td>https://cloudfront-us-east-1.images.arcpublish...</td>\n",
       "    </tr>\n",
       "    <tr>\n",
       "      <th>4</th>\n",
       "      <td>2025-04-30</td>\n",
       "      <td>事实查核</td>\n",
       "      <td>事实快查｜关于国民党426游行，两则错假资讯流传中</td>\n",
       "      <td>董喆</td>\n",
       "      <td>2025年台湾民间团体发起「大罢免行动」，对象锁定30多位国民党籍民意代表。国民党也在4月2...</td>\n",
       "      <td>https://www.rfa.org/mandarin/shishi-hecha/2025...</td>\n",
       "      <td>https://cloudfront-us-east-1.images.arcpublish...</td>\n",
       "    </tr>\n",
       "    <tr>\n",
       "      <th>...</th>\n",
       "      <td>...</td>\n",
       "      <td>...</td>\n",
       "      <td>...</td>\n",
       "      <td>...</td>\n",
       "      <td>...</td>\n",
       "      <td>...</td>\n",
       "      <td>...</td>\n",
       "    </tr>\n",
       "    <tr>\n",
       "      <th>546</th>\n",
       "      <td>2022-12-06</td>\n",
       "      <td>事实查核</td>\n",
       "      <td>事实查核 | 世卫专家真的说了\"躺平者将双手沾满鲜血\"吗？</td>\n",
       "      <td>艾玛</td>\n",
       "      <td>经过各大城市爆发抗议极端防疫政策的\"白纸运动\"后，中国各地在新冠疫情的防控上开始传出不同程度...</td>\n",
       "      <td>https://www.rfa.org/mandarin/shishi-hecha/hc-1...</td>\n",
       "      <td>https://cloudfront-us-east-1.images.arcpublish...</td>\n",
       "    </tr>\n",
       "    <tr>\n",
       "      <th>547</th>\n",
       "      <td>2022-12-01</td>\n",
       "      <td>事实查核</td>\n",
       "      <td>事实查核 | 新疆乌鲁木齐火灾与\"动态清零\"政策有关吗？ ——赵立坚说的\"造谣抹黑\"是真的吗？</td>\n",
       "      <td>艾玛</td>\n",
       "      <td>NaN</td>\n",
       "      <td>https://www.rfa.org/mandarin/shishi-hecha/hc-1...</td>\n",
       "      <td>https://cloudfront-us-east-1.images.arcpublish...</td>\n",
       "    </tr>\n",
       "    <tr>\n",
       "      <th>548</th>\n",
       "      <td>2022-11-29</td>\n",
       "      <td>事实查核</td>\n",
       "      <td>为死难同胞讨公道，哥大女生遭不明身份男子暴打</td>\n",
       "      <td>记者：艾玛</td>\n",
       "      <td>为纪念新疆乌鲁木齐\"11.24\"大火遇难同胞，声援中国各地爆发的\"白纸运动\"，海外中国留学生...</td>\n",
       "      <td>https://www.rfa.org/mandarin/shishi-hecha/hc-1...</td>\n",
       "      <td>https://cloudfront-us-east-1.images.arcpublish...</td>\n",
       "    </tr>\n",
       "    <tr>\n",
       "      <th>549</th>\n",
       "      <td>2022-11-22</td>\n",
       "      <td>事实查核</td>\n",
       "      <td>事实查核 | 是谁在\"利用人工智能操纵叙事\"？ — 斯坦福大学报告揭示的\"涉疆谣言\"真相</td>\n",
       "      <td>艾玛</td>\n",
       "      <td>近日，央视旗下自媒体品牌“玉渊谭天”制作了一期风靡互联网的节目——《独家揭秘：美国如何利用人...</td>\n",
       "      <td>https://www.rfa.org/mandarin/shishi-hecha/hc-1...</td>\n",
       "      <td>https://cloudfront-us-east-1.images.arcpublish...</td>\n",
       "    </tr>\n",
       "    <tr>\n",
       "      <th>550</th>\n",
       "      <td>2022-11-15</td>\n",
       "      <td>事实查核</td>\n",
       "      <td>事实查核  | 北约捐给乌克兰带病毒血液？乌卫生部驳斥微博大V谣言</td>\n",
       "      <td>辛西娅</td>\n",
       "      <td>11月3日，拥有644万粉丝的新浪大V “孤烟暮蝉”在其个人微博账号发布贴文，称乌克兰军队向...</td>\n",
       "      <td>https://www.rfa.org/mandarin/shishi-hecha/hc-1...</td>\n",
       "      <td>https://cloudfront-us-east-1.images.arcpublish...</td>\n",
       "    </tr>\n",
       "  </tbody>\n",
       "</table>\n",
       "<p>551 rows × 7 columns</p>\n",
       "</div>"
      ],
      "text/plain": [
       "           date category                                            title  \\\n",
       "0    2025-05-08     事实查核                               《中共外宣在台湾》报告全文电子档发布   \n",
       "1    2025-05-05     事实查核                               事实查核｜网传视频是以色列大火画面？   \n",
       "2    2025-05-02     事实查核                     事实查核｜照片显示，胡塞武装又击落一架美军MQ9无人机？   \n",
       "3    2025-05-01     事实查核                 事实查核｜网传视频显示，白宫墙上挂着「2028竞选红帽」销售图？   \n",
       "4    2025-04-30     事实查核                        事实快查｜关于国民党426游行，两则错假资讯流传中   \n",
       "..          ...      ...                                              ...   \n",
       "546  2022-12-06     事实查核                    事实查核 | 世卫专家真的说了\"躺平者将双手沾满鲜血\"吗？   \n",
       "547  2022-12-01     事实查核  事实查核 | 新疆乌鲁木齐火灾与\"动态清零\"政策有关吗？ ——赵立坚说的\"造谣抹黑\"是真的吗？   \n",
       "548  2022-11-29     事实查核                           为死难同胞讨公道，哥大女生遭不明身份男子暴打   \n",
       "549  2022-11-22     事实查核     事实查核 | 是谁在\"利用人工智能操纵叙事\"？ — 斯坦福大学报告揭示的\"涉疆谣言\"真相   \n",
       "550  2022-11-15     事实查核                事实查核  | 北约捐给乌克兰带病毒血液？乌卫生部驳斥微博大V谣言   \n",
       "\n",
       "        author                                        description  \\\n",
       "0    亚洲事实查核实验室      AFCL将《中共外宣在台湾》十一篇报道重新编辑成电子书版本，全文共九章，读者可以自由下载。   \n",
       "1           庄敬  近日在X平台上，有「蓝勾」认证帐号发布一段山林、街区燃烧的短视频，宣称是「熊熊大火席卷以色列...   \n",
       "2           董喆  近期，X平台与中国论坛上广传一张照片，称是胡塞武装又击落一架美军MQ-9无人机，但这是201...   \n",
       "3           庄敬  微博、X等平台上流传一则短视频：美国总统特朗普记者展示白宫墙上挂着的「2028竞选红帽」销售...   \n",
       "4           董喆  2025年台湾民间团体发起「大罢免行动」，对象锁定30多位国民党籍民意代表。国民党也在4月2...   \n",
       "..         ...                                                ...   \n",
       "546         艾玛  经过各大城市爆发抗议极端防疫政策的\"白纸运动\"后，中国各地在新冠疫情的防控上开始传出不同程度...   \n",
       "547         艾玛                                                NaN   \n",
       "548      记者：艾玛  为纪念新疆乌鲁木齐\"11.24\"大火遇难同胞，声援中国各地爆发的\"白纸运动\"，海外中国留学生...   \n",
       "549         艾玛  近日，央视旗下自媒体品牌“玉渊谭天”制作了一期风靡互联网的节目——《独家揭秘：美国如何利用人...   \n",
       "550        辛西娅  11月3日，拥有644万粉丝的新浪大V “孤烟暮蝉”在其个人微博账号发布贴文，称乌克兰军队向...   \n",
       "\n",
       "                                                   url  \\\n",
       "0    https://www.rfa.org/mandarin/shishi-hecha/2025...   \n",
       "1    https://www.rfa.org/mandarin/shishi-hecha/2025...   \n",
       "2    https://www.rfa.org/mandarin/shishi-hecha/2025...   \n",
       "3    https://www.rfa.org/mandarin/shishi-hecha/2025...   \n",
       "4    https://www.rfa.org/mandarin/shishi-hecha/2025...   \n",
       "..                                                 ...   \n",
       "546  https://www.rfa.org/mandarin/shishi-hecha/hc-1...   \n",
       "547  https://www.rfa.org/mandarin/shishi-hecha/hc-1...   \n",
       "548  https://www.rfa.org/mandarin/shishi-hecha/hc-1...   \n",
       "549  https://www.rfa.org/mandarin/shishi-hecha/hc-1...   \n",
       "550  https://www.rfa.org/mandarin/shishi-hecha/hc-1...   \n",
       "\n",
       "                                             image_url  \n",
       "0    https://cloudfront-us-east-1.images.arcpublish...  \n",
       "1    https://cloudfront-us-east-1.images.arcpublish...  \n",
       "2    https://cloudfront-us-east-1.images.arcpublish...  \n",
       "3    https://cloudfront-us-east-1.images.arcpublish...  \n",
       "4    https://cloudfront-us-east-1.images.arcpublish...  \n",
       "..                                                 ...  \n",
       "546  https://cloudfront-us-east-1.images.arcpublish...  \n",
       "547  https://cloudfront-us-east-1.images.arcpublish...  \n",
       "548  https://cloudfront-us-east-1.images.arcpublish...  \n",
       "549  https://cloudfront-us-east-1.images.arcpublish...  \n",
       "550  https://cloudfront-us-east-1.images.arcpublish...  \n",
       "\n",
       "[551 rows x 7 columns]"
      ]
     },
     "execution_count": 251,
     "metadata": {},
     "output_type": "execute_result"
    }
   ],
   "source": [
    "df"
   ]
  },
  {
   "cell_type": "code",
   "execution_count": null,
   "id": "3f843269-83f5-4cfd-b9cc-434a1ea69426",
   "metadata": {},
   "outputs": [],
   "source": []
  }
 ],
 "metadata": {
  "kernelspec": {
   "display_name": "Python 3 (ipykernel)",
   "language": "python",
   "name": "python3"
  },
  "language_info": {
   "codemirror_mode": {
    "name": "ipython",
    "version": 3
   },
   "file_extension": ".py",
   "mimetype": "text/x-python",
   "name": "python",
   "nbconvert_exporter": "python",
   "pygments_lexer": "ipython3",
   "version": "3.13.3"
  }
 },
 "nbformat": 4,
 "nbformat_minor": 5
}
