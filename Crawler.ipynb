{
 "cells": [
  {
   "cell_type": "code",
   "execution_count": 87,
   "id": "39fc79ec-874c-4c09-8578-cfa32c76a68c",
   "metadata": {},
   "outputs": [],
   "source": [
    "import mechanize\n",
    "import json\n",
    "import csv\n",
    "import urllib.parse\n",
    "from http.cookiejar import LWPCookieJar\n",
    "from tqdm import tqdm"
   ]
  },
  {
   "cell_type": "code",
   "execution_count": 88,
   "id": "09fbd5cf-3caa-4777-b50e-6ab28e9a0c52",
   "metadata": {},
   "outputs": [],
   "source": [
    "br = mechanize.Browser()\n",
    "br.set_handle_robots(False)\n",
    "br.set_handle_equiv(True)\n",
    "br.set_handle_gzip(True)\n",
    "cj = LWPCookieJar()\n",
    "br.set_cookiejar(cj)"
   ]
  },
  {
   "cell_type": "code",
   "execution_count": 89,
   "id": "007f2564-f38c-4fd0-8b0a-4c89b8a9a7bd",
   "metadata": {},
   "outputs": [],
   "source": [
    "start_url = 'https://www.rfa.org/mandarin/shishi-hecha/story_archive/'\n",
    "try:\n",
    "    br.open(start_url)\n",
    "except Exception as e:\n",
    "    print(f\"Error visiting start page: {e}\")\n"
   ]
  },
  {
   "cell_type": "code",
   "execution_count": 168,
   "id": "f3eed9be-db6f-4840-a4e3-e27140f753c3",
   "metadata": {},
   "outputs": [],
   "source": [
    "# LANG = 'zh'\n",
    "LANG = 'en'"
   ]
  },
  {
   "cell_type": "code",
   "execution_count": 169,
   "id": "8268ff4a-ce3b-4a64-aa39-53ff0e72fedf",
   "metadata": {},
   "outputs": [],
   "source": [
    "if LANG == 'zh':\n",
    "    d = 109\n",
    "    rfa_website = 'rfa-mandarin'\n",
    "    includeSections = '/mandarin/shishi-hecha'\n",
    "elif LANG == 'en':\n",
    "    d = 111\n",
    "    rfa_website = 'radio-free-asia'\n",
    "    includeSections = '/english/factcheck'"
   ]
  },
  {
   "cell_type": "code",
   "execution_count": 170,
   "id": "e2d70b63-078e-4c4a-acf3-9d90e2b635ee",
   "metadata": {},
   "outputs": [],
   "source": [
    "output_csv_file = f'rfa_shishi_data_{LANG}.csv'\n",
    "output_json_file = f'rfa_shishi_data_{LANG}.json'"
   ]
  },
  {
   "cell_type": "code",
   "execution_count": 171,
   "id": "bc01417e-25db-42d7-b885-7354bb08aa1a",
   "metadata": {},
   "outputs": [],
   "source": [
    "results = []"
   ]
  },
  {
   "cell_type": "code",
   "execution_count": 172,
   "id": "da3d4102-25ac-4d9d-950f-d5807deaf959",
   "metadata": {},
   "outputs": [],
   "source": [
    "filter_param = urllib.parse.quote(\n",
    "    '{content_elements{_id,credits{by{additional_properties{original{byline}},name,type,url}},description{basic},display_date,headlines{basic},label{basic{display,text,url}},owner{sponsored},promo_items{basic{_id,auth{1},type,url},lead_art{promo_items{basic{_id,auth{1},type,url}},type}},type,websites{' + rfa_website + '{website_section{_id,name},website_url}}},count,next}'\n",
    ")"
   ]
  },
  {
   "cell_type": "code",
   "execution_count": null,
   "id": "745cb427-d73e-45df-a714-b3dbb10fb4c0",
   "metadata": {},
   "outputs": [],
   "source": []
  },
  {
   "cell_type": "code",
   "execution_count": 173,
   "id": "34eb3b5e-660a-499a-ad68-a2297c37b09b",
   "metadata": {},
   "outputs": [],
   "source": [
    "# query_obj = {\n",
    "#         'feature': 'results-list',\n",
    "#         'feedOffset': 0,\n",
    "#         'feedSize': 100,\n",
    "#         'includeSections': '/mandarin/shishi-hecha',\n",
    "#         'query': 'display_date:[2024-01-01 TO 2025-12-31]'\n",
    "#     }"
   ]
  },
  {
   "cell_type": "code",
   "execution_count": 174,
   "id": "2cfab3ac-ba0b-4d16-ba4c-8b98703645cd",
   "metadata": {},
   "outputs": [],
   "source": [
    "# query_str = urllib.parse.quote(json.dumps(query_obj), safe='')\n",
    "# api_url = (\n",
    "#     f\"https://www.rfa.org/pf/api/v3/content/fetch/story-feed-sections?\"\n",
    "#     f\"query={query_str}&filter={filter_param}&d=109&_website=rfa-mandarin\"\n",
    "# )"
   ]
  },
  {
   "cell_type": "code",
   "execution_count": 175,
   "id": "213ef8a7-59a7-4f3d-a736-6d9823e68e97",
   "metadata": {},
   "outputs": [],
   "source": [
    "# api_url"
   ]
  },
  {
   "cell_type": "code",
   "execution_count": 176,
   "id": "23840d85-4428-4444-a5de-cea2226ce016",
   "metadata": {},
   "outputs": [],
   "source": [
    "# resp = br.open(api_url)\n",
    "# data = json.loads(resp.read().decode('utf-8'))"
   ]
  },
  {
   "cell_type": "code",
   "execution_count": 177,
   "id": "398928ef-294e-49fa-89cd-29f4317bb4fc",
   "metadata": {},
   "outputs": [],
   "source": [
    "# elem = data.get('content_elements', [])[1]"
   ]
  },
  {
   "cell_type": "code",
   "execution_count": 178,
   "id": "970da762-00a8-42fd-9af9-4677bd8f582d",
   "metadata": {},
   "outputs": [
    {
     "data": {
      "text/plain": [
       "{'_id': 'J73WFX6QI73X24CZL374UC3CEE',\n",
       " 'credits': {'by': [{'additional_properties': {'original': {}},\n",
       "    'name': '作者：辛西娅',\n",
       "    'type': 'author'}]},\n",
       " 'description': {'basic': '11月3日，拥有644万粉丝的新浪大V “孤烟暮蝉”在其个人微博账号发布贴文，称乌克兰军队向北约组织(NATO)要求6万多升血液，以救助伤兵。北约捐赠的罐装血液送达以后，乌克兰方面抽查时发现部分血液感染了艾滋病毒、乙型和丙型肝炎病毒。乌方要求北约对血液状况进行独立评估，并要求不要在非洲大陆购买血液。贴文配有三张图片，第一张图片以英文宣称该信息来自乌克兰总理被黑客破解的电邮，第二张是貌似乌克兰语写成的公函，第三张是该公函的英文翻译。图片水印显示“mash”字样。'},\n",
       " 'display_date': '2022-11-15T21:29:00Z',\n",
       " 'headlines': {'basic': '事实查核  | 北约捐给乌克兰带病毒血液？乌卫生部驳斥微博大V谣言'},\n",
       " 'owner': {'sponsored': False},\n",
       " 'promo_items': {'basic': {'_id': 'YI2NISCEHCBNXVE3JQYZVQJ4CM',\n",
       "   'auth': {'1': '5cf729e64c4302408f7a70d505f6141d38588c16d9e2a92b6e82ea2db7722011'},\n",
       "   'type': 'image',\n",
       "   'url': 'https://cloudfront-us-east-1.images.arcpublishing.com/radiofreeasia/YI2NISCEHCBNXVE3JQYZVQJ4CM.png'}},\n",
       " 'type': 'story',\n",
       " 'websites': {'rfa-mandarin': {'website_section': {'_id': '/mandarin/shishi-hecha',\n",
       "    'name': '事实查核 '},\n",
       "   'website_url': '/mandarin/shishi-hecha/hc-11152022161312.html'}}}"
      ]
     },
     "execution_count": 178,
     "metadata": {},
     "output_type": "execute_result"
    }
   ],
   "source": [
    "elem"
   ]
  },
  {
   "cell_type": "code",
   "execution_count": 179,
   "id": "5104e1ec-c021-4000-9910-27e1fca67e1b",
   "metadata": {},
   "outputs": [],
   "source": [
    "# website = elem.get('websites', {}).get('rfa-mandarin', {})"
   ]
  },
  {
   "cell_type": "code",
   "execution_count": 180,
   "id": "b7e855a0-551e-47b9-a7e6-61ae8271b32a",
   "metadata": {},
   "outputs": [],
   "source": [
    "# url = 'https://www.rfa.org' + website.get('website_url', '')\n",
    "# url"
   ]
  },
  {
   "cell_type": "code",
   "execution_count": 181,
   "id": "64d1683d-8189-4489-be6e-347aec69e2da",
   "metadata": {},
   "outputs": [],
   "source": [
    "# category = website.get('website_section', {}).get('name', '')\n",
    "# category"
   ]
  },
  {
   "cell_type": "code",
   "execution_count": 182,
   "id": "ddf99f0c-9cbd-41bd-9ce2-f93fe243837b",
   "metadata": {},
   "outputs": [],
   "source": [
    "# image_url = elem.get('promo_items', {}).get('basic', {}).get('url', '')\n",
    "# image_url"
   ]
  },
  {
   "cell_type": "code",
   "execution_count": 190,
   "id": "2632c880-171a-4453-8a2f-63d214f4e155",
   "metadata": {},
   "outputs": [],
   "source": [
    "results = []"
   ]
  },
  {
   "cell_type": "code",
   "execution_count": 191,
   "id": "0b730c10-257f-45ae-9cc8-5807ba4f9505",
   "metadata": {},
   "outputs": [
    {
     "name": "stderr",
     "output_type": "stream",
     "text": [
      "Fetching pages: 100%|████████████████████████████████████████████████| 6/6 [00:00<00:00, 19.10it/s]\n"
     ]
    }
   ],
   "source": [
    "# 逐步調整 feedOffset, 共抓取 0,100,...,500\n",
    "for offset in tqdm(range(0, 600, 100), desc='Fetching pages'):\n",
    "    # 建構 query 物件並 URL 編碼\n",
    "    query_obj = {\n",
    "        'feature': 'results-list',\n",
    "        'feedOffset': offset,\n",
    "        'feedSize': 100,\n",
    "        'includeSections': includeSections,\n",
    "        'query': 'display_date:[2024-01-01 TO 2025-12-31]'\n",
    "    }\n",
    "    query_str = urllib.parse.quote(json.dumps(query_obj), safe='')\n",
    "    api_url = (\n",
    "        f\"https://www.rfa.org/pf/api/v3/content/fetch/story-feed-sections?\"\n",
    "        f\"query={query_str}&filter={filter_param}&d={d}&_website={rfa_website}\"\n",
    "    )\n",
    "    # print(api_url)\n",
    "\n",
    "    try:\n",
    "        resp = br.open(api_url)\n",
    "        data = json.loads(resp.read().decode('utf-8'))\n",
    "    except Exception as e:\n",
    "        print(f\"Error fetching offset {offset}: {e}\")\n",
    "        continue\n",
    "\n",
    "    for elem in data.get('content_elements', []):\n",
    "        # print(elem)\n",
    "        try:\n",
    "            # 提取作者 (去除「作者：」前綴)\n",
    "            by_list = elem.get('credits', {}).get('by', [])\n",
    "            authors = [b.get('name', '').replace('作者：', '').strip() for b in by_list]\n",
    "            author = '、'.join(authors)\n",
    "\n",
    "            description = elem.get('description', {}).get('basic', '').strip()\n",
    "            title = elem.get('headlines', {}).get('basic', '').strip()\n",
    "            image_url = elem.get('promo_items', {}).get('basic', {}).get('url', '')\n",
    "            display_date = elem.get('display_date', '')\n",
    "            date = display_date.split('T')[0] if 'T' in display_date else display_date\n",
    "            website = elem.get('websites', {}).get(rfa_website, {})\n",
    "            url = 'https://www.rfa.org' + website.get('website_url', '')\n",
    "            category = website.get('website_section', {}).get('name', '').strip()\n",
    "\n",
    "            results.append({\n",
    "                'date': date,\n",
    "                'category': category,\n",
    "                'title': title,\n",
    "                'author': author,\n",
    "                'description': description,\n",
    "                'url': url,\n",
    "                'image_url': image_url\n",
    "            })\n",
    "        except Exception as e:\n",
    "            print(f\"Error parsing element {elem.get('_id')}: {e}\")\n"
   ]
  },
  {
   "cell_type": "code",
   "execution_count": 192,
   "id": "1dce739d-6a2c-4026-83d6-07697775fabb",
   "metadata": {},
   "outputs": [
    {
     "name": "stdout",
     "output_type": "stream",
     "text": [
      "Saved JSON to rfa_shishi_data_en.json\n"
     ]
    }
   ],
   "source": [
    "try:\n",
    "    with open(output_json_file, 'w', encoding='utf-8') as jf:\n",
    "        json.dump(results, jf, ensure_ascii=False, indent=2)\n",
    "    print(f\"Saved JSON to {output_json_file}\")\n",
    "except Exception as e:\n",
    "    print(f\"Error saving JSON: {e}\")"
   ]
  },
  {
   "cell_type": "code",
   "execution_count": 193,
   "id": "2d729fa0-21d7-4bec-b8f5-cfe6e3256ce9",
   "metadata": {},
   "outputs": [
    {
     "name": "stdout",
     "output_type": "stream",
     "text": [
      "Saved CSV to rfa_shishi_data_en.csv\n"
     ]
    }
   ],
   "source": [
    "try:\n",
    "    with open(output_csv_file, 'w', encoding='utf-8', newline='') as cf:\n",
    "        writer = csv.DictWriter(\n",
    "            cf,\n",
    "            fieldnames=['date', 'category', 'title', 'author', 'description', 'url', 'image_url']\n",
    "        )\n",
    "        writer.writeheader()\n",
    "        for row in results:\n",
    "            writer.writerow(row)\n",
    "    print(f\"Saved CSV to {output_csv_file}\")\n",
    "except Exception as e:\n",
    "    print(f\"Error saving CSV: {e}\")\n"
   ]
  },
  {
   "cell_type": "code",
   "execution_count": 167,
   "id": "48d77032-ce66-4736-862c-b4bfe00ad55b",
   "metadata": {},
   "outputs": [
    {
     "ename": "SyntaxError",
     "evalue": "invalid decimal literal (1659398009.py, line 1)",
     "output_type": "error",
     "traceback": [
      "\u001b[0;36m  Cell \u001b[0;32mIn[167], line 1\u001b[0;36m\u001b[0m\n\u001b[0;31m    https://www.rfa.org/pf/api/v3/content/fetch/story-feed-sections?query=%7B%22feature%22%3A%20%22results-list%22%2C%20%22feedOffset%22%3A%200%2C%20%22feedSize%22%3A%20100%2C%20%22includeSections%22%3A%20%22%2Fenglish%2Ffactcheck%22%2C%20%22query%22%3A%20%22display_date%3A%5B2024-01-01%20TO%202025-12-31%5D%22%7D&filter=%7Bcontent_elements%7B_id%2Ccredits%7Bby%7Badditional_properties%7Boriginal%7Bbyline%7D%7D%2Cname%2Ctype%2Curl%7D%7D%2Cdescription%7Bbasic%7D%2Cdisplay_date%2Cheadlines%7Bbasic%7D%2Clabel%7Bbasic%7Bdisplay%2Ctext%2Curl%7D%7D%2Cowner%7Bsponsored%7D%2Cpromo_items%7Bbasic%7B_id%2Cauth%7B1%7D%2Ctype%2Curl%7D%2Clead_art%7Bpromo_items%7Bbasic%7B_id%2Cauth%7B1%7D%2Ctype%2Curl%7D%7D%2Ctype%7D%7D%2Ctype%2Cwebsites%7Brfa-mandarin%7Bwebsite_section%7B_id%2Cname%7D%2Cwebsite_url%7D%7D%7D%2Ccount%2Cnext%7D&d=111&_website=\u001b[0m\n\u001b[0m                                                                           ^\u001b[0m\n\u001b[0;31mSyntaxError\u001b[0m\u001b[0;31m:\u001b[0m invalid decimal literal\n"
     ]
    }
   ],
   "source": []
  },
  {
   "cell_type": "code",
   "execution_count": null,
   "id": "f57314e2-2516-44b1-bc5f-47d64835094d",
   "metadata": {},
   "outputs": [],
   "source": []
  }
 ],
 "metadata": {
  "kernelspec": {
   "display_name": "Python 3 (ipykernel)",
   "language": "python",
   "name": "python3"
  },
  "language_info": {
   "codemirror_mode": {
    "name": "ipython",
    "version": 3
   },
   "file_extension": ".py",
   "mimetype": "text/x-python",
   "name": "python",
   "nbconvert_exporter": "python",
   "pygments_lexer": "ipython3",
   "version": "3.13.3"
  }
 },
 "nbformat": 4,
 "nbformat_minor": 5
}
